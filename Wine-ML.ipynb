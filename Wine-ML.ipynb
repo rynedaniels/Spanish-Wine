{
 "cells": [
  {
   "attachments": {},
   "cell_type": "markdown",
   "metadata": {},
   "source": [
    "### **Import Packages/Load Data/Function Definitions**"
   ]
  },
  {
   "cell_type": "code",
   "execution_count": 2,
   "metadata": {},
   "outputs": [],
   "source": [
    "import pandas as pd\n",
    "import numpy as np\n",
    "import matplotlib.pyplot as plt\n",
    "import seaborn as sns\n",
    "\n",
    "from sklearn.model_selection import train_test_split\n",
    "from sklearn.linear_model import LogisticRegression\n",
    "from sklearn.neighbors import KNeighborsClassifier\n",
    "from sklearn.tree import DecisionTreeClassifier\n",
    "from sklearn.ensemble import RandomForestClassifier, GradientBoostingClassifier\n",
    "from sklearn.preprocessing import PolynomialFeatures, StandardScaler, OneHotEncoder\n",
    "from sklearn.compose import make_column_transformer, make_column_selector\n",
    "from sklearn.pipeline import make_pipeline\n",
    "from sklearn.impute import SimpleImputer\n",
    "from sklearn.metrics import precision_score, recall_score, accuracy_score, f1_score, ConfusionMatrixDisplay, \\\n",
    "classification_report\n",
    "from sklearn.model_selection import RandomizedSearchCV\n",
    "import xgboost as xgb\n",
    "\n",
    "\n",
    "\n",
    "import warnings\n",
    "warnings.filterwarnings('ignore')"
   ]
  },
  {
   "cell_type": "code",
   "execution_count": 3,
   "metadata": {},
   "outputs": [
    {
     "data": {
      "text/html": [
       "<div>\n",
       "<style scoped>\n",
       "    .dataframe tbody tr th:only-of-type {\n",
       "        vertical-align: middle;\n",
       "    }\n",
       "\n",
       "    .dataframe tbody tr th {\n",
       "        vertical-align: top;\n",
       "    }\n",
       "\n",
       "    .dataframe thead th {\n",
       "        text-align: right;\n",
       "    }\n",
       "</style>\n",
       "<table border=\"1\" class=\"dataframe\">\n",
       "  <thead>\n",
       "    <tr style=\"text-align: right;\">\n",
       "      <th></th>\n",
       "      <th>winery</th>\n",
       "      <th>wine</th>\n",
       "      <th>year</th>\n",
       "      <th>rating</th>\n",
       "      <th>num_reviews</th>\n",
       "      <th>country</th>\n",
       "      <th>region</th>\n",
       "      <th>price</th>\n",
       "      <th>type</th>\n",
       "      <th>body</th>\n",
       "      <th>acidity</th>\n",
       "    </tr>\n",
       "  </thead>\n",
       "  <tbody>\n",
       "    <tr>\n",
       "      <th>0</th>\n",
       "      <td>Teso La Monja</td>\n",
       "      <td>Tinto</td>\n",
       "      <td>2013</td>\n",
       "      <td>4.9</td>\n",
       "      <td>58</td>\n",
       "      <td>Espana</td>\n",
       "      <td>Toro</td>\n",
       "      <td>995.00</td>\n",
       "      <td>Toro Red</td>\n",
       "      <td>5.0</td>\n",
       "      <td>3.0</td>\n",
       "    </tr>\n",
       "    <tr>\n",
       "      <th>1</th>\n",
       "      <td>Artadi</td>\n",
       "      <td>Vina El Pison</td>\n",
       "      <td>2018</td>\n",
       "      <td>4.9</td>\n",
       "      <td>31</td>\n",
       "      <td>Espana</td>\n",
       "      <td>Vino de Espana</td>\n",
       "      <td>313.50</td>\n",
       "      <td>Tempranillo</td>\n",
       "      <td>4.0</td>\n",
       "      <td>2.0</td>\n",
       "    </tr>\n",
       "    <tr>\n",
       "      <th>2</th>\n",
       "      <td>Vega Sicilia</td>\n",
       "      <td>Unico</td>\n",
       "      <td>2009</td>\n",
       "      <td>4.8</td>\n",
       "      <td>1793</td>\n",
       "      <td>Espana</td>\n",
       "      <td>Ribera del Duero</td>\n",
       "      <td>324.95</td>\n",
       "      <td>Ribera Del Duero Red</td>\n",
       "      <td>5.0</td>\n",
       "      <td>3.0</td>\n",
       "    </tr>\n",
       "    <tr>\n",
       "      <th>3</th>\n",
       "      <td>Vega Sicilia</td>\n",
       "      <td>Unico</td>\n",
       "      <td>1999</td>\n",
       "      <td>4.8</td>\n",
       "      <td>1705</td>\n",
       "      <td>Espana</td>\n",
       "      <td>Ribera del Duero</td>\n",
       "      <td>692.96</td>\n",
       "      <td>Ribera Del Duero Red</td>\n",
       "      <td>5.0</td>\n",
       "      <td>3.0</td>\n",
       "    </tr>\n",
       "    <tr>\n",
       "      <th>4</th>\n",
       "      <td>Vega Sicilia</td>\n",
       "      <td>Unico</td>\n",
       "      <td>1996</td>\n",
       "      <td>4.8</td>\n",
       "      <td>1309</td>\n",
       "      <td>Espana</td>\n",
       "      <td>Ribera del Duero</td>\n",
       "      <td>778.06</td>\n",
       "      <td>Ribera Del Duero Red</td>\n",
       "      <td>5.0</td>\n",
       "      <td>3.0</td>\n",
       "    </tr>\n",
       "  </tbody>\n",
       "</table>\n",
       "</div>"
      ],
      "text/plain": [
       "          winery           wine  year  rating  num_reviews country  \\\n",
       "0  Teso La Monja          Tinto  2013     4.9           58  Espana   \n",
       "1         Artadi  Vina El Pison  2018     4.9           31  Espana   \n",
       "2   Vega Sicilia          Unico  2009     4.8         1793  Espana   \n",
       "3   Vega Sicilia          Unico  1999     4.8         1705  Espana   \n",
       "4   Vega Sicilia          Unico  1996     4.8         1309  Espana   \n",
       "\n",
       "             region   price                  type  body  acidity  \n",
       "0              Toro  995.00              Toro Red   5.0      3.0  \n",
       "1    Vino de Espana  313.50           Tempranillo   4.0      2.0  \n",
       "2  Ribera del Duero  324.95  Ribera Del Duero Red   5.0      3.0  \n",
       "3  Ribera del Duero  692.96  Ribera Del Duero Red   5.0      3.0  \n",
       "4  Ribera del Duero  778.06  Ribera Del Duero Red   5.0      3.0  "
      ]
     },
     "execution_count": 3,
     "metadata": {},
     "output_type": "execute_result"
    }
   ],
   "source": [
    "df = pd.read_csv('data/spanish_wines.csv')\n",
    "df.head()"
   ]
  },
  {
   "cell_type": "code",
   "execution_count": 4,
   "metadata": {},
   "outputs": [],
   "source": [
    "def eval_classification(true, pred, name='Model', average='macro'):\n",
    "      \n",
    "    print(name, '\\n')\n",
    "    print(classification_report(true, pred))\n",
    "    ConfusionMatrixDisplay.from_predictions(true, pred)\n",
    "    plt.show()\n",
    "\n",
    "    scores = pd.DataFrame()\n",
    "    scores['Model Name'] = [name]\n",
    "    scores['Precision'] = [precision_score(true, pred, average=average)]\n",
    "    scores['Recall'] = [recall_score(true, pred, average=average)]\n",
    "    scores['F1 Score'] = [f1_score(true, pred, average=average)]\n",
    "    scores['Accuracy'] = [accuracy_score(true, pred)]\n",
    "    scores.set_index('Model Name', inplace=True)\n",
    "\n",
    "    return scores"
   ]
  },
  {
   "attachments": {},
   "cell_type": "markdown",
   "metadata": {},
   "source": [
    "### **Data Cleaning**"
   ]
  },
  {
   "cell_type": "code",
   "execution_count": 5,
   "metadata": {},
   "outputs": [
    {
     "name": "stdout",
     "output_type": "stream",
     "text": [
      "<class 'pandas.core.frame.DataFrame'>\n",
      "RangeIndex: 7500 entries, 0 to 7499\n",
      "Data columns (total 11 columns):\n",
      " #   Column       Non-Null Count  Dtype  \n",
      "---  ------       --------------  -----  \n",
      " 0   winery       7500 non-null   object \n",
      " 1   wine         7500 non-null   object \n",
      " 2   year         7498 non-null   object \n",
      " 3   rating       7500 non-null   float64\n",
      " 4   num_reviews  7500 non-null   int64  \n",
      " 5   country      7500 non-null   object \n",
      " 6   region       7500 non-null   object \n",
      " 7   price        7500 non-null   float64\n",
      " 8   type         6955 non-null   object \n",
      " 9   body         6331 non-null   float64\n",
      " 10  acidity      6331 non-null   float64\n",
      "dtypes: float64(4), int64(1), object(6)\n",
      "memory usage: 644.7+ KB\n"
     ]
    }
   ],
   "source": [
    "df.info()"
   ]
  },
  {
   "cell_type": "code",
   "execution_count": 6,
   "metadata": {},
   "outputs": [],
   "source": [
    "# drop dupllicates\n",
    "df = df.drop_duplicates()"
   ]
  },
  {
   "cell_type": "code",
   "execution_count": 7,
   "metadata": {},
   "outputs": [],
   "source": [
    "# dropping the 'wine' column due to high cardinality\n",
    "# dropping the 'country' column as all the values are the same\n",
    "df = df.drop(columns=['country', 'wine'])\n",
    "df = df.dropna(subset=['type'])"
   ]
  },
  {
   "cell_type": "code",
   "execution_count": 8,
   "metadata": {},
   "outputs": [],
   "source": [
    "# handling error\n",
    "df['year'] = df['year'].replace('N.V.', np.nan)\n",
    "df.dropna(subset=['year'], inplace=True)"
   ]
  },
  {
   "cell_type": "code",
   "execution_count": 9,
   "metadata": {},
   "outputs": [],
   "source": [
    "df['year'] = df['year'].astype('int')"
   ]
  },
  {
   "cell_type": "code",
   "execution_count": 10,
   "metadata": {},
   "outputs": [
    {
     "name": "stdout",
     "output_type": "stream",
     "text": [
      "<class 'pandas.core.frame.DataFrame'>\n",
      "Int64Index: 1877 entries, 0 to 6100\n",
      "Data columns (total 9 columns):\n",
      " #   Column       Non-Null Count  Dtype  \n",
      "---  ------       --------------  -----  \n",
      " 0   winery       1877 non-null   object \n",
      " 1   year         1877 non-null   int32  \n",
      " 2   rating       1877 non-null   float64\n",
      " 3   num_reviews  1877 non-null   int64  \n",
      " 4   region       1877 non-null   object \n",
      " 5   price        1877 non-null   float64\n",
      " 6   type         1877 non-null   object \n",
      " 7   body         1714 non-null   float64\n",
      " 8   acidity      1714 non-null   float64\n",
      "dtypes: float64(4), int32(1), int64(1), object(3)\n",
      "memory usage: 139.3+ KB\n"
     ]
    }
   ],
   "source": [
    "# cleaned data\n",
    "df.info()"
   ]
  },
  {
   "attachments": {},
   "cell_type": "markdown",
   "metadata": {},
   "source": [
    "### **Analyzing Numerical and Categorical Columns**"
   ]
  },
  {
   "cell_type": "code",
   "execution_count": 11,
   "metadata": {},
   "outputs": [
    {
     "data": {
      "text/html": [
       "<div>\n",
       "<style scoped>\n",
       "    .dataframe tbody tr th:only-of-type {\n",
       "        vertical-align: middle;\n",
       "    }\n",
       "\n",
       "    .dataframe tbody tr th {\n",
       "        vertical-align: top;\n",
       "    }\n",
       "\n",
       "    .dataframe thead th {\n",
       "        text-align: right;\n",
       "    }\n",
       "</style>\n",
       "<table border=\"1\" class=\"dataframe\">\n",
       "  <thead>\n",
       "    <tr style=\"text-align: right;\">\n",
       "      <th></th>\n",
       "      <th>year</th>\n",
       "      <th>rating</th>\n",
       "      <th>num_reviews</th>\n",
       "      <th>price</th>\n",
       "      <th>body</th>\n",
       "      <th>acidity</th>\n",
       "    </tr>\n",
       "  </thead>\n",
       "  <tbody>\n",
       "    <tr>\n",
       "      <th>count</th>\n",
       "      <td>1877.000000</td>\n",
       "      <td>1877.000000</td>\n",
       "      <td>1877.000000</td>\n",
       "      <td>1877.000000</td>\n",
       "      <td>1714.000000</td>\n",
       "      <td>1714.000000</td>\n",
       "    </tr>\n",
       "    <tr>\n",
       "      <th>mean</th>\n",
       "      <td>2010.869473</td>\n",
       "      <td>4.404688</td>\n",
       "      <td>579.998934</td>\n",
       "      <td>142.612586</td>\n",
       "      <td>4.263127</td>\n",
       "      <td>2.928238</td>\n",
       "    </tr>\n",
       "    <tr>\n",
       "      <th>std</th>\n",
       "      <td>11.300344</td>\n",
       "      <td>0.148552</td>\n",
       "      <td>1181.990378</td>\n",
       "      <td>282.560181</td>\n",
       "      <td>0.660949</td>\n",
       "      <td>0.313328</td>\n",
       "    </tr>\n",
       "    <tr>\n",
       "      <th>min</th>\n",
       "      <td>1910.000000</td>\n",
       "      <td>4.200000</td>\n",
       "      <td>25.000000</td>\n",
       "      <td>6.260000</td>\n",
       "      <td>2.000000</td>\n",
       "      <td>1.000000</td>\n",
       "    </tr>\n",
       "    <tr>\n",
       "      <th>25%</th>\n",
       "      <td>2010.000000</td>\n",
       "      <td>4.300000</td>\n",
       "      <td>60.000000</td>\n",
       "      <td>32.550000</td>\n",
       "      <td>4.000000</td>\n",
       "      <td>3.000000</td>\n",
       "    </tr>\n",
       "    <tr>\n",
       "      <th>50%</th>\n",
       "      <td>2015.000000</td>\n",
       "      <td>4.400000</td>\n",
       "      <td>151.000000</td>\n",
       "      <td>55.140000</td>\n",
       "      <td>4.000000</td>\n",
       "      <td>3.000000</td>\n",
       "    </tr>\n",
       "    <tr>\n",
       "      <th>75%</th>\n",
       "      <td>2017.000000</td>\n",
       "      <td>4.500000</td>\n",
       "      <td>513.000000</td>\n",
       "      <td>117.300000</td>\n",
       "      <td>5.000000</td>\n",
       "      <td>3.000000</td>\n",
       "    </tr>\n",
       "    <tr>\n",
       "      <th>max</th>\n",
       "      <td>2021.000000</td>\n",
       "      <td>4.900000</td>\n",
       "      <td>16505.000000</td>\n",
       "      <td>3119.080000</td>\n",
       "      <td>5.000000</td>\n",
       "      <td>3.000000</td>\n",
       "    </tr>\n",
       "  </tbody>\n",
       "</table>\n",
       "</div>"
      ],
      "text/plain": [
       "              year       rating   num_reviews        price         body  \\\n",
       "count  1877.000000  1877.000000   1877.000000  1877.000000  1714.000000   \n",
       "mean   2010.869473     4.404688    579.998934   142.612586     4.263127   \n",
       "std      11.300344     0.148552   1181.990378   282.560181     0.660949   \n",
       "min    1910.000000     4.200000     25.000000     6.260000     2.000000   \n",
       "25%    2010.000000     4.300000     60.000000    32.550000     4.000000   \n",
       "50%    2015.000000     4.400000    151.000000    55.140000     4.000000   \n",
       "75%    2017.000000     4.500000    513.000000   117.300000     5.000000   \n",
       "max    2021.000000     4.900000  16505.000000  3119.080000     5.000000   \n",
       "\n",
       "           acidity  \n",
       "count  1714.000000  \n",
       "mean      2.928238  \n",
       "std       0.313328  \n",
       "min       1.000000  \n",
       "25%       3.000000  \n",
       "50%       3.000000  \n",
       "75%       3.000000  \n",
       "max       3.000000  "
      ]
     },
     "execution_count": 11,
     "metadata": {},
     "output_type": "execute_result"
    }
   ],
   "source": [
    "# previewing numerical columns \n",
    "df.describe()"
   ]
  },
  {
   "cell_type": "code",
   "execution_count": 12,
   "metadata": {},
   "outputs": [
    {
     "data": {
      "text/html": [
       "<div>\n",
       "<style scoped>\n",
       "    .dataframe tbody tr th:only-of-type {\n",
       "        vertical-align: middle;\n",
       "    }\n",
       "\n",
       "    .dataframe tbody tr th {\n",
       "        vertical-align: top;\n",
       "    }\n",
       "\n",
       "    .dataframe thead th {\n",
       "        text-align: right;\n",
       "    }\n",
       "</style>\n",
       "<table border=\"1\" class=\"dataframe\">\n",
       "  <thead>\n",
       "    <tr style=\"text-align: right;\">\n",
       "      <th></th>\n",
       "      <th>winery</th>\n",
       "      <th>region</th>\n",
       "      <th>type</th>\n",
       "    </tr>\n",
       "  </thead>\n",
       "  <tbody>\n",
       "    <tr>\n",
       "      <th>count</th>\n",
       "      <td>1877</td>\n",
       "      <td>1877</td>\n",
       "      <td>1877</td>\n",
       "    </tr>\n",
       "    <tr>\n",
       "      <th>unique</th>\n",
       "      <td>410</td>\n",
       "      <td>65</td>\n",
       "      <td>21</td>\n",
       "    </tr>\n",
       "    <tr>\n",
       "      <th>top</th>\n",
       "      <td>Vega Sicilia</td>\n",
       "      <td>Ribera del Duero</td>\n",
       "      <td>Ribera Del Duero Red</td>\n",
       "    </tr>\n",
       "    <tr>\n",
       "      <th>freq</th>\n",
       "      <td>96</td>\n",
       "      <td>538</td>\n",
       "      <td>534</td>\n",
       "    </tr>\n",
       "  </tbody>\n",
       "</table>\n",
       "</div>"
      ],
      "text/plain": [
       "              winery            region                  type\n",
       "count           1877              1877                  1877\n",
       "unique           410                65                    21\n",
       "top     Vega Sicilia  Ribera del Duero  Ribera Del Duero Red\n",
       "freq              96               538                   534"
      ]
     },
     "execution_count": 12,
     "metadata": {},
     "output_type": "execute_result"
    }
   ],
   "source": [
    "# previewing categorical columns\n",
    "df.describe(exclude='number')"
   ]
  },
  {
   "attachments": {},
   "cell_type": "markdown",
   "metadata": {},
   "source": [
    "### **Feature Engineering**"
   ]
  },
  {
   "cell_type": "code",
   "execution_count": 13,
   "metadata": {},
   "outputs": [
    {
     "name": "stdout",
     "output_type": "stream",
     "text": [
      "    index      year\n",
      "0    2016  0.125733\n",
      "1    2017  0.118807\n",
      "2    2015  0.106553\n",
      "3    2018  0.093767\n",
      "4    2014  0.083644\n",
      "5    2011  0.051678\n",
      "6    2012  0.049014\n",
      "7    2019  0.048482\n",
      "8    2010  0.039425\n",
      "9    2013  0.034630\n",
      "10   2009  0.024507\n",
      "11   2007  0.020245\n",
      "12   2004  0.019180\n",
      "13   2005  0.019180\n",
      "14   2006  0.015983\n",
      "15   2008  0.015983\n",
      "16   2001  0.011188\n",
      "17   2020  0.009590\n",
      "18   2000  0.009057\n",
      "19   2003  0.006926\n",
      "20   1994  0.006926\n",
      "21   1995  0.006926\n",
      "22   1998  0.006393\n",
      "23   2002  0.006393\n",
      "24   1996  0.005860\n",
      "25   1999  0.005328\n",
      "26   1982  0.004262\n",
      "27   1985  0.003729\n",
      "28   1989  0.003729\n",
      "29   1986  0.003197\n",
      "30   1964  0.003197\n",
      "31   2021  0.003197\n",
      "32   1968  0.002664\n",
      "33   1987  0.002664\n",
      "34   1970  0.002664\n",
      "35   1981  0.002131\n",
      "36   1973  0.001598\n",
      "37   1997  0.001598\n",
      "38   1991  0.001598\n",
      "39   1980  0.001066\n",
      "40   1959  0.001066\n",
      "41   1988  0.001066\n",
      "42   1975  0.001066\n",
      "43   1965  0.001066\n",
      "44   1990  0.001066\n",
      "45   1955  0.001066\n",
      "46   1983  0.001066\n",
      "47   1979  0.001066\n",
      "48   1946  0.001066\n",
      "49   1962  0.001066\n",
      "50   1931  0.000533\n",
      "51   1978  0.000533\n",
      "52   1922  0.000533\n",
      "53   1929  0.000533\n",
      "54   1949  0.000533\n",
      "55   1976  0.000533\n",
      "56   1928  0.000533\n",
      "57   1951  0.000533\n",
      "58   1969  0.000533\n",
      "59   1961  0.000533\n",
      "60   1954  0.000533\n",
      "61   1972  0.000533\n",
      "62   1910  0.000533\n",
      "63   1967  0.000533\n",
      "64   1974  0.000533\n",
      "65   1992  0.000533\n",
      "66   1942  0.000533\n",
      "67   1958  0.000533\n",
      "68   1953  0.000533\n",
      "69   1925  0.000533\n"
     ]
    }
   ],
   "source": [
    "# the results of the cell below shows the percentages of each vintage in our dataset\n",
    "year_full = df['year'].value_counts(normalize=True).reset_index()\n",
    "\n",
    "\n",
    "with pd.option_context('display.max_rows', None):\n",
    "    print(year_full)"
   ]
  },
  {
   "cell_type": "code",
   "execution_count": 14,
   "metadata": {},
   "outputs": [
    {
     "data": {
      "text/html": [
       "<div>\n",
       "<style scoped>\n",
       "    .dataframe tbody tr th:only-of-type {\n",
       "        vertical-align: middle;\n",
       "    }\n",
       "\n",
       "    .dataframe tbody tr th {\n",
       "        vertical-align: top;\n",
       "    }\n",
       "\n",
       "    .dataframe thead th {\n",
       "        text-align: right;\n",
       "    }\n",
       "</style>\n",
       "<table border=\"1\" class=\"dataframe\">\n",
       "  <thead>\n",
       "    <tr style=\"text-align: right;\">\n",
       "      <th></th>\n",
       "      <th>winery</th>\n",
       "      <th>year</th>\n",
       "      <th>rating</th>\n",
       "      <th>num_reviews</th>\n",
       "      <th>region</th>\n",
       "      <th>price</th>\n",
       "      <th>type</th>\n",
       "      <th>body</th>\n",
       "      <th>acidity</th>\n",
       "    </tr>\n",
       "  </thead>\n",
       "  <tbody>\n",
       "    <tr>\n",
       "      <th>0</th>\n",
       "      <td>Teso La Monja</td>\n",
       "      <td>2013</td>\n",
       "      <td>4.9</td>\n",
       "      <td>58</td>\n",
       "      <td>Toro</td>\n",
       "      <td>995.00</td>\n",
       "      <td>Toro Red</td>\n",
       "      <td>5.0</td>\n",
       "      <td>3.0</td>\n",
       "    </tr>\n",
       "    <tr>\n",
       "      <th>1</th>\n",
       "      <td>Artadi</td>\n",
       "      <td>2018</td>\n",
       "      <td>4.9</td>\n",
       "      <td>31</td>\n",
       "      <td>Vino de Espana</td>\n",
       "      <td>313.50</td>\n",
       "      <td>Tempranillo</td>\n",
       "      <td>4.0</td>\n",
       "      <td>2.0</td>\n",
       "    </tr>\n",
       "    <tr>\n",
       "      <th>2</th>\n",
       "      <td>Vega Sicilia</td>\n",
       "      <td>2009</td>\n",
       "      <td>4.8</td>\n",
       "      <td>1793</td>\n",
       "      <td>Ribera del Duero</td>\n",
       "      <td>324.95</td>\n",
       "      <td>Ribera Del Duero Red</td>\n",
       "      <td>5.0</td>\n",
       "      <td>3.0</td>\n",
       "    </tr>\n",
       "    <tr>\n",
       "      <th>6</th>\n",
       "      <td>Vega Sicilia</td>\n",
       "      <td>2010</td>\n",
       "      <td>4.8</td>\n",
       "      <td>1201</td>\n",
       "      <td>Ribera del Duero</td>\n",
       "      <td>349.00</td>\n",
       "      <td>Ribera Del Duero Red</td>\n",
       "      <td>5.0</td>\n",
       "      <td>3.0</td>\n",
       "    </tr>\n",
       "    <tr>\n",
       "      <th>8</th>\n",
       "      <td>Vega Sicilia</td>\n",
       "      <td>2015</td>\n",
       "      <td>4.8</td>\n",
       "      <td>643</td>\n",
       "      <td>Ribera del Duero</td>\n",
       "      <td>345.00</td>\n",
       "      <td>Ribera Del Duero Red</td>\n",
       "      <td>5.0</td>\n",
       "      <td>3.0</td>\n",
       "    </tr>\n",
       "  </tbody>\n",
       "</table>\n",
       "</div>"
      ],
      "text/plain": [
       "          winery  year  rating  num_reviews            region   price  \\\n",
       "0  Teso La Monja  2013     4.9           58              Toro  995.00   \n",
       "1         Artadi  2018     4.9           31    Vino de Espana  313.50   \n",
       "2   Vega Sicilia  2009     4.8         1793  Ribera del Duero  324.95   \n",
       "6   Vega Sicilia  2010     4.8         1201  Ribera del Duero  349.00   \n",
       "8   Vega Sicilia  2015     4.8          643  Ribera del Duero  345.00   \n",
       "\n",
       "                   type  body  acidity  \n",
       "0              Toro Red   5.0      3.0  \n",
       "1           Tempranillo   4.0      2.0  \n",
       "2  Ribera Del Duero Red   5.0      3.0  \n",
       "6  Ribera Del Duero Red   5.0      3.0  \n",
       "8  Ribera Del Duero Red   5.0      3.0  "
      ]
     },
     "execution_count": 14,
     "metadata": {},
     "output_type": "execute_result"
    }
   ],
   "source": [
    "# a new dataframe is created for the all the data after the year 2002 \n",
    "df_filtered = df.loc[df['year'] >= 2002]\n",
    "df_filtered.head()"
   ]
  },
  {
   "cell_type": "code",
   "execution_count": 15,
   "metadata": {},
   "outputs": [],
   "source": [
    "# converting the 'rating' column into 3 separate classes\n",
    "df_filtered['rating'] = df_filtered['rating'].apply(lambda x: 'low' if 4.2 <= x <= 4.4 else ('med' if 4.5 <= x <= 4.6 else 'high'))"
   ]
  },
  {
   "cell_type": "code",
   "execution_count": 17,
   "metadata": {},
   "outputs": [],
   "source": [
    "df_filtered['year'] = df_filtered['year'].astype('category')"
   ]
  },
  {
   "attachments": {},
   "cell_type": "markdown",
   "metadata": {},
   "source": [
    "### **Preprocessing**"
   ]
  },
  {
   "cell_type": "code",
   "execution_count": 18,
   "metadata": {},
   "outputs": [],
   "source": [
    "# instantiate imputers // creatintg pipelines\n",
    "scaler = StandardScaler()\n",
    "ohe = OneHotEncoder(sparse=False, handle_unknown='ignore')\n",
    "\n",
    "mean_imputer = SimpleImputer(strategy='mean')\n",
    "freq_imputer = SimpleImputer(strategy='most_frequent')\n",
    "\n",
    "num_selector = make_column_selector(dtype_include=['number','float'])\n",
    "cat_selector = make_column_selector(dtype_include=['object','category'])\n",
    "\n",
    "num_pipe = make_pipeline(mean_imputer, scaler)\n",
    "cat_pipe = make_pipeline(freq_imputer, ohe)\n",
    "\n",
    "preprocessor = make_column_transformer((num_pipe, num_selector), (cat_pipe, cat_selector))"
   ]
  },
  {
   "attachments": {},
   "cell_type": "markdown",
   "metadata": {},
   "source": [
    "### **Initial Modeling and Evaluating**"
   ]
  },
  {
   "cell_type": "code",
   "execution_count": 19,
   "metadata": {},
   "outputs": [],
   "source": [
    "# selecting vector(y) and features(X)\n",
    "y = df_filtered['rating']\n",
    "X = df_filtered.drop(columns='rating')\n",
    "\n",
    "X_train, X_test, y_train, y_test = train_test_split(X, y, random_state=42)"
   ]
  },
  {
   "cell_type": "code",
   "execution_count": 25,
   "metadata": {},
   "outputs": [
    {
     "name": "stdout",
     "output_type": "stream",
     "text": [
      "Logistic Regression \n",
      "\n",
      "              precision    recall  f1-score   support\n",
      "\n",
      "        high       0.60      0.30      0.40        20\n",
      "         low       0.79      0.96      0.87       293\n",
      "         med       0.60      0.31      0.41       106\n",
      "\n",
      "    accuracy                           0.76       419\n",
      "   macro avg       0.66      0.52      0.56       419\n",
      "weighted avg       0.74      0.76      0.73       419\n",
      "\n"
     ]
    },
    {
     "data": {
      "image/png": "[encoded data removed]",
      "text/plain": [
       "<Figure size 640x480 with 2 Axes>"
      ]
     },
     "metadata": {},
     "output_type": "display_data"
    },
    {
     "data": {
      "text/html": [
       "<div>\n",
       "<style scoped>\n",
       "    .dataframe tbody tr th:only-of-type {\n",
       "        vertical-align: middle;\n",
       "    }\n",
       "\n",
       "    .dataframe tbody tr th {\n",
       "        vertical-align: top;\n",
       "    }\n",
       "\n",
       "    .dataframe thead th {\n",
       "        text-align: right;\n",
       "    }\n",
       "</style>\n",
       "<table border=\"1\" class=\"dataframe\">\n",
       "  <thead>\n",
       "    <tr style=\"text-align: right;\">\n",
       "      <th></th>\n",
       "      <th>Precision</th>\n",
       "      <th>Recall</th>\n",
       "      <th>F1 Score</th>\n",
       "      <th>Accuracy</th>\n",
       "    </tr>\n",
       "    <tr>\n",
       "      <th>Model Name</th>\n",
       "      <th></th>\n",
       "      <th></th>\n",
       "      <th></th>\n",
       "      <th></th>\n",
       "    </tr>\n",
       "  </thead>\n",
       "  <tbody>\n",
       "    <tr>\n",
       "      <th>Logistic Regression</th>\n",
       "      <td>0.664595</td>\n",
       "      <td>0.523455</td>\n",
       "      <td>0.559521</td>\n",
       "      <td>0.763723</td>\n",
       "    </tr>\n",
       "  </tbody>\n",
       "</table>\n",
       "</div>"
      ],
      "text/plain": [
       "                     Precision    Recall  F1 Score  Accuracy\n",
       "Model Name                                                  \n",
       "Logistic Regression   0.664595  0.523455  0.559521  0.763723"
      ]
     },
     "execution_count": 25,
     "metadata": {},
     "output_type": "execute_result"
    }
   ],
   "source": [
    "# model 1: logistic regressor\n",
    "log_reg = LogisticRegression(max_iter=1000)\n",
    "log_reg_pipe = make_pipeline(preprocessor, log_reg)\n",
    "log_reg_pipe.fit(X_train, y_train)\n",
    "log_reg_y_pred = log_reg_pipe.predict(X_test)\n",
    "\n",
    "# evaluate logistic regression model\n",
    "model_scores_log_reg = eval_classification(y_test, log_reg_y_pred, name='Logistic Regression')\n",
    "model_scores_log_reg"
   ]
  },
  {
   "cell_type": "code",
   "execution_count": 26,
   "metadata": {},
   "outputs": [
    {
     "name": "stdout",
     "output_type": "stream",
     "text": [
      "K-Nearest Neighbors \n",
      "\n",
      "              precision    recall  f1-score   support\n",
      "\n",
      "        high       0.50      0.55      0.52        20\n",
      "         low       0.81      0.91      0.86       293\n",
      "         med       0.57      0.36      0.44       106\n",
      "\n",
      "    accuracy                           0.75       419\n",
      "   macro avg       0.63      0.61      0.61       419\n",
      "weighted avg       0.73      0.75      0.74       419\n",
      "\n"
     ]
    },
    {
     "data": {
      "image/png": "[encoded data removed]",
      "text/plain": [
       "<Figure size 640x480 with 2 Axes>"
      ]
     },
     "metadata": {},
     "output_type": "display_data"
    },
    {
     "data": {
      "text/html": [
       "<div>\n",
       "<style scoped>\n",
       "    .dataframe tbody tr th:only-of-type {\n",
       "        vertical-align: middle;\n",
       "    }\n",
       "\n",
       "    .dataframe tbody tr th {\n",
       "        vertical-align: top;\n",
       "    }\n",
       "\n",
       "    .dataframe thead th {\n",
       "        text-align: right;\n",
       "    }\n",
       "</style>\n",
       "<table border=\"1\" class=\"dataframe\">\n",
       "  <thead>\n",
       "    <tr style=\"text-align: right;\">\n",
       "      <th></th>\n",
       "      <th>Precision</th>\n",
       "      <th>Recall</th>\n",
       "      <th>F1 Score</th>\n",
       "      <th>Accuracy</th>\n",
       "    </tr>\n",
       "    <tr>\n",
       "      <th>Model Name</th>\n",
       "      <th></th>\n",
       "      <th></th>\n",
       "      <th></th>\n",
       "      <th></th>\n",
       "    </tr>\n",
       "  </thead>\n",
       "  <tbody>\n",
       "    <tr>\n",
       "      <th>K-Nearest Neighbors</th>\n",
       "      <td>0.625418</td>\n",
       "      <td>0.606584</td>\n",
       "      <td>0.606753</td>\n",
       "      <td>0.754177</td>\n",
       "    </tr>\n",
       "  </tbody>\n",
       "</table>\n",
       "</div>"
      ],
      "text/plain": [
       "                     Precision    Recall  F1 Score  Accuracy\n",
       "Model Name                                                  \n",
       "K-Nearest Neighbors   0.625418  0.606584  0.606753  0.754177"
      ]
     },
     "execution_count": 26,
     "metadata": {},
     "output_type": "execute_result"
    }
   ],
   "source": [
    "# model 2: K-Nearest Neighbors\n",
    "knn = KNeighborsClassifier(n_neighbors=5)\n",
    "knn_pipe = make_pipeline(preprocessor, knn)\n",
    "knn_pipe.fit(X_train, y_train)\n",
    "y_pred_knn = knn_pipe.predict(X_test)\n",
    "\n",
    "# evaluate KNN model\n",
    "model_scores_knn = eval_classification(y_test, y_pred_knn, name='K-Nearest Neighbors', average='macro')\n",
    "model_scores_knn"
   ]
  },
  {
   "cell_type": "code",
   "execution_count": 28,
   "metadata": {},
   "outputs": [
    {
     "name": "stdout",
     "output_type": "stream",
     "text": [
      "Decision Tree Classifier \n",
      "\n",
      "              precision    recall  f1-score   support\n",
      "\n",
      "        high       0.50      0.45      0.47        20\n",
      "         low       0.81      0.88      0.85       293\n",
      "         med       0.49      0.39      0.43       106\n",
      "\n",
      "    accuracy                           0.74       419\n",
      "   macro avg       0.60      0.57      0.59       419\n",
      "weighted avg       0.72      0.74      0.73       419\n",
      "\n"
     ]
    },
    {
     "data": {
      "image/png": "[encoded data removed]",
      "text/plain": [
       "<Figure size 640x480 with 2 Axes>"
      ]
     },
     "metadata": {},
     "output_type": "display_data"
    },
    {
     "data": {
      "text/html": [
       "<div>\n",
       "<style scoped>\n",
       "    .dataframe tbody tr th:only-of-type {\n",
       "        vertical-align: middle;\n",
       "    }\n",
       "\n",
       "    .dataframe tbody tr th {\n",
       "        vertical-align: top;\n",
       "    }\n",
       "\n",
       "    .dataframe thead th {\n",
       "        text-align: right;\n",
       "    }\n",
       "</style>\n",
       "<table border=\"1\" class=\"dataframe\">\n",
       "  <thead>\n",
       "    <tr style=\"text-align: right;\">\n",
       "      <th></th>\n",
       "      <th>Precision</th>\n",
       "      <th>Recall</th>\n",
       "      <th>F1 Score</th>\n",
       "      <th>Accuracy</th>\n",
       "    </tr>\n",
       "    <tr>\n",
       "      <th>Model Name</th>\n",
       "      <th></th>\n",
       "      <th></th>\n",
       "      <th></th>\n",
       "      <th></th>\n",
       "    </tr>\n",
       "  </thead>\n",
       "  <tbody>\n",
       "    <tr>\n",
       "      <th>Decision Tree Classifier</th>\n",
       "      <td>0.602814</td>\n",
       "      <td>0.573584</td>\n",
       "      <td>0.585112</td>\n",
       "      <td>0.73747</td>\n",
       "    </tr>\n",
       "  </tbody>\n",
       "</table>\n",
       "</div>"
      ],
      "text/plain": [
       "                          Precision    Recall  F1 Score  Accuracy\n",
       "Model Name                                                       \n",
       "Decision Tree Classifier   0.602814  0.573584  0.585112   0.73747"
      ]
     },
     "execution_count": 28,
     "metadata": {},
     "output_type": "execute_result"
    }
   ],
   "source": [
    "# model 3: decision tree classifier\n",
    "dt = DecisionTreeClassifier(random_state=42)\n",
    "dt_pipe = make_pipeline(preprocessor, dt)\n",
    "dt_pipe.fit(X_train, y_train)\n",
    "y_pred_dt = dt_pipe.predict(X_test)\n",
    "\n",
    "# evaluate the decision tree classifier\n",
    "model_scores_dt = eval_classification(y_test, y_pred_dt, name='Decision Tree Classifier', average='macro')\n",
    "model_scores_dt"
   ]
  },
  {
   "cell_type": "code",
   "execution_count": 29,
   "metadata": {},
   "outputs": [
    {
     "name": "stdout",
     "output_type": "stream",
     "text": [
      "Random Forest Classifier \n",
      "\n",
      "              precision    recall  f1-score   support\n",
      "\n",
      "        high       0.56      0.25      0.34        20\n",
      "         low       0.82      0.94      0.87       293\n",
      "         med       0.59      0.42      0.49       106\n",
      "\n",
      "    accuracy                           0.77       419\n",
      "   macro avg       0.66      0.54      0.57       419\n",
      "weighted avg       0.75      0.77      0.75       419\n",
      "\n"
     ]
    },
    {
     "data": {
      "image/png": "[encoded data removed]",
      "text/plain": [
       "<Figure size 640x480 with 2 Axes>"
      ]
     },
     "metadata": {},
     "output_type": "display_data"
    },
    {
     "data": {
      "text/html": [
       "<div>\n",
       "<style scoped>\n",
       "    .dataframe tbody tr th:only-of-type {\n",
       "        vertical-align: middle;\n",
       "    }\n",
       "\n",
       "    .dataframe tbody tr th {\n",
       "        vertical-align: top;\n",
       "    }\n",
       "\n",
       "    .dataframe thead th {\n",
       "        text-align: right;\n",
       "    }\n",
       "</style>\n",
       "<table border=\"1\" class=\"dataframe\">\n",
       "  <thead>\n",
       "    <tr style=\"text-align: right;\">\n",
       "      <th></th>\n",
       "      <th>Precision</th>\n",
       "      <th>Recall</th>\n",
       "      <th>F1 Score</th>\n",
       "      <th>Accuracy</th>\n",
       "    </tr>\n",
       "    <tr>\n",
       "      <th>Model Name</th>\n",
       "      <th></th>\n",
       "      <th></th>\n",
       "      <th></th>\n",
       "      <th></th>\n",
       "    </tr>\n",
       "  </thead>\n",
       "  <tbody>\n",
       "    <tr>\n",
       "      <th>Random Forest Classifier</th>\n",
       "      <td>0.656007</td>\n",
       "      <td>0.536561</td>\n",
       "      <td>0.571112</td>\n",
       "      <td>0.77327</td>\n",
       "    </tr>\n",
       "  </tbody>\n",
       "</table>\n",
       "</div>"
      ],
      "text/plain": [
       "                          Precision    Recall  F1 Score  Accuracy\n",
       "Model Name                                                       \n",
       "Random Forest Classifier   0.656007  0.536561  0.571112   0.77327"
      ]
     },
     "execution_count": 29,
     "metadata": {},
     "output_type": "execute_result"
    }
   ],
   "source": [
    "# model 4 :random forest \n",
    "rf = RandomForestClassifier(n_estimators=100, random_state=42)\n",
    "rf_pipe = make_pipeline(preprocessor, rf)\n",
    "rf_pipe.fit(X_train, y_train)\n",
    "y_pred_rf = rf_pipe.predict(X_test)\n",
    "\n",
    "# evaluate the random forest classifier\n",
    "model_scores_rf = eval_classification(y_test, y_pred_rf, name='Random Forest Classifier', average='macro')\n",
    "model_scores_rf "
   ]
  },
  {
   "cell_type": "code",
   "execution_count": 30,
   "metadata": {},
   "outputs": [
    {
     "name": "stdout",
     "output_type": "stream",
     "text": [
      "[21:07:25] WARNING: D:\\bld\\xgboost-split_1637426510059\\work\\src\\learner.cc:1115: Starting in XGBoost 1.3.0, the default evaluation metric used with the objective 'multi:softprob' was changed from 'merror' to 'mlogloss'. Explicitly set eval_metric if you'd like to restore the old behavior.\n",
      "XGB Classifier \n",
      "\n",
      "              precision    recall  f1-score   support\n",
      "\n",
      "        high       0.64      0.45      0.53        20\n",
      "         low       0.83      0.92      0.88       293\n",
      "         med       0.61      0.45      0.52       106\n",
      "\n",
      "    accuracy                           0.78       419\n",
      "   macro avg       0.69      0.61      0.64       419\n",
      "weighted avg       0.77      0.78      0.77       419\n",
      "\n"
     ]
    },
    {
     "data": {
      "image/png": "[encoded data removed]",
      "text/plain": [
       "<Figure size 640x480 with 2 Axes>"
      ]
     },
     "metadata": {},
     "output_type": "display_data"
    },
    {
     "data": {
      "text/html": [
       "<div>\n",
       "<style scoped>\n",
       "    .dataframe tbody tr th:only-of-type {\n",
       "        vertical-align: middle;\n",
       "    }\n",
       "\n",
       "    .dataframe tbody tr th {\n",
       "        vertical-align: top;\n",
       "    }\n",
       "\n",
       "    .dataframe thead th {\n",
       "        text-align: right;\n",
       "    }\n",
       "</style>\n",
       "<table border=\"1\" class=\"dataframe\">\n",
       "  <thead>\n",
       "    <tr style=\"text-align: right;\">\n",
       "      <th></th>\n",
       "      <th>Precision</th>\n",
       "      <th>Recall</th>\n",
       "      <th>F1 Score</th>\n",
       "      <th>Accuracy</th>\n",
       "    </tr>\n",
       "    <tr>\n",
       "      <th>Model Name</th>\n",
       "      <th></th>\n",
       "      <th></th>\n",
       "      <th></th>\n",
       "      <th></th>\n",
       "    </tr>\n",
       "  </thead>\n",
       "  <tbody>\n",
       "    <tr>\n",
       "      <th>XGB Classifier</th>\n",
       "      <td>0.693913</td>\n",
       "      <td>0.609248</td>\n",
       "      <td>0.641312</td>\n",
       "      <td>0.782816</td>\n",
       "    </tr>\n",
       "  </tbody>\n",
       "</table>\n",
       "</div>"
      ],
      "text/plain": [
       "                Precision    Recall  F1 Score  Accuracy\n",
       "Model Name                                             \n",
       "XGB Classifier   0.693913  0.609248  0.641312  0.782816"
      ]
     },
     "execution_count": 30,
     "metadata": {},
     "output_type": "execute_result"
    }
   ],
   "source": [
    "# model 5: xgb classifier\n",
    "xgb_clf = xgb.XGBClassifier(random_state=42)\n",
    "xgb_clf_pipe = make_pipeline(preprocessor, xgb_clf)\n",
    "xgb_clf_pipe.fit(X_train, y_train)\n",
    "xgb_clf_y_pred = xgb_clf_pipe.predict(X_test)\n",
    "\n",
    "# evaluate the XGB classifier\n",
    "model_scores_xgb_clf = eval_classification(y_test, xgb_clf_y_pred, name='XGB Classifier', average='macro')\n",
    "model_scores_xgb_clf"
   ]
  },
  {
   "cell_type": "code",
   "execution_count": 32,
   "metadata": {},
   "outputs": [
    {
     "name": "stdout",
     "output_type": "stream",
     "text": [
      "Gradient Boosting Classifier \n",
      "\n",
      "              precision    recall  f1-score   support\n",
      "\n",
      "        high       0.50      0.30      0.37        20\n",
      "         low       0.84      0.92      0.87       293\n",
      "         med       0.60      0.48      0.53       106\n",
      "\n",
      "    accuracy                           0.78       419\n",
      "   macro avg       0.65      0.57      0.59       419\n",
      "weighted avg       0.76      0.78      0.76       419\n",
      "\n"
     ]
    },
    {
     "data": {
      "image/png": "[encoded data removed]",
      "text/plain": [
       "<Figure size 640x480 with 2 Axes>"
      ]
     },
     "metadata": {},
     "output_type": "display_data"
    },
    {
     "data": {
      "text/html": [
       "<div>\n",
       "<style scoped>\n",
       "    .dataframe tbody tr th:only-of-type {\n",
       "        vertical-align: middle;\n",
       "    }\n",
       "\n",
       "    .dataframe tbody tr th {\n",
       "        vertical-align: top;\n",
       "    }\n",
       "\n",
       "    .dataframe thead th {\n",
       "        text-align: right;\n",
       "    }\n",
       "</style>\n",
       "<table border=\"1\" class=\"dataframe\">\n",
       "  <thead>\n",
       "    <tr style=\"text-align: right;\">\n",
       "      <th></th>\n",
       "      <th>Precision</th>\n",
       "      <th>Recall</th>\n",
       "      <th>F1 Score</th>\n",
       "      <th>Accuracy</th>\n",
       "    </tr>\n",
       "    <tr>\n",
       "      <th>Model Name</th>\n",
       "      <th></th>\n",
       "      <th></th>\n",
       "      <th></th>\n",
       "      <th></th>\n",
       "    </tr>\n",
       "  </thead>\n",
       "  <tbody>\n",
       "    <tr>\n",
       "      <th>Gradient Boosting Classifier</th>\n",
       "      <td>0.645135</td>\n",
       "      <td>0.566407</td>\n",
       "      <td>0.594609</td>\n",
       "      <td>0.778043</td>\n",
       "    </tr>\n",
       "  </tbody>\n",
       "</table>\n",
       "</div>"
      ],
      "text/plain": [
       "                              Precision    Recall  F1 Score  Accuracy\n",
       "Model Name                                                           \n",
       "Gradient Boosting Classifier   0.645135  0.566407  0.594609  0.778043"
      ]
     },
     "execution_count": 32,
     "metadata": {},
     "output_type": "execute_result"
    }
   ],
   "source": [
    "# model 6: gradient boost classifier\n",
    "gb_clf = GradientBoostingClassifier(n_estimators=100, max_depth=6, random_state=42)\n",
    "gb_clf_pipe = make_pipeline(preprocessor, gb_clf)\n",
    "gb_clf_pipe.fit(X_train, y_train)\n",
    "gb_clf_y_pred = gb_clf_pipe.predict(X_test)\n",
    "\n",
    "# evaluate the gradient boost classifier\n",
    "model_scores_gb_clf = eval_classification(y_test, gb_clf_y_pred, name='Gradient Boosting Classifier', average='macro')\n",
    "model_scores_gb_clf"
   ]
  },
  {
   "cell_type": "code",
   "execution_count": 34,
   "metadata": {},
   "outputs": [
    {
     "name": "stdout",
     "output_type": "stream",
     "text": [
      "                     Model Name  Precision    Recall  F1 Score  Accuracy\n",
      "0           Logistic Regression   0.664595  0.523455  0.559521  0.763723\n",
      "1           K-Nearest Neighbors   0.625418  0.606584  0.606753  0.754177\n",
      "2      Decision Tree Classifier   0.602814  0.573584  0.585112  0.737470\n",
      "3      Random Forest Classifier   0.656007  0.536561  0.571112  0.773270\n",
      "4                XGB Classifier   0.693913  0.609248  0.641312  0.782816\n",
      "5  Gradient Boosting Classifier   0.645135  0.566407  0.594609  0.778043\n"
     ]
    }
   ],
   "source": [
    "# combined scores of all our initial models\n",
    "model_scores_combined = pd.concat([\n",
    "    model_scores_log_reg,\n",
    "    model_scores_knn,\n",
    "    model_scores_dt,\n",
    "    model_scores_rf,\n",
    "    model_scores_xgb_clf,\n",
    "    model_scores_gb_clf\n",
    "])\n",
    "\n",
    "\n",
    "model_scores_combined.reset_index(inplace=True)\n",
    "\n",
    "\n",
    "print(model_scores_combined)"
   ]
  },
  {
   "attachments": {},
   "cell_type": "markdown",
   "metadata": {},
   "source": [
    "### **Further Modeling and Evaluation (Hyperparameter Tuning)**"
   ]
  },
  {
   "attachments": {},
   "cell_type": "markdown",
   "metadata": {},
   "source": [
    "Given their strong(est) performance on the dataset, the RandomForest Regressor and XGB Regressor are the best candidates for further optimization using hyperparameter tuning and PCA. The results above suggest a very weak linear correlation which is why the two models performed best."
   ]
  },
  {
   "cell_type": "code",
   "execution_count": 35,
   "metadata": {},
   "outputs": [],
   "source": [
    "# parameter grids for the three models\n",
    "log_reg_param_grid = {\n",
    "    'logisticregression__C': [0.001, 0.01, 0.1, 1, 10, 100],\n",
    "    'logisticregression__penalty': ['l1', 'l2', 'elasticnet', 'none'],\n",
    "    'logisticregression__solver': ['newton-cg', 'lbfgs', 'liblinear', 'sag', 'saga'],\n",
    "}\n",
    "\n",
    "rf_param_grid = {\n",
    "    'randomforestclassifier__n_estimators': [50, 100, 200, 300],\n",
    "    'randomforestclassifier__max_depth': [None, 10, 20, 30, 40],\n",
    "    'randomforestclassifier__min_samples_split': [2, 5, 10, 15],\n",
    "    'randomforestclassifier__min_samples_leaf': [1, 2, 4],\n",
    "    'randomforestclassifier__max_features': ['auto', 'sqrt', 'log2'],\n",
    "}\n",
    "\n",
    "gb_param_grid = {\n",
    "    'gradientboostingclassifier__n_estimators': [100, 200, 300, 400],\n",
    "    'gradientboostingclassifier__max_depth': [3, 6, 9, 12],\n",
    "    'gradientboostingclassifier__learning_rate': [0.001, 0.01, 0.1, 0.2],\n",
    "    'gradientboostingclassifier__subsample': [0.5, 0.75, 1],\n",
    "    'gradientboostingclassifier__min_samples_split': [2, 5, 10, 15],\n",
    "    'gradientboostingclassifier__min_samples_leaf': [1, 2, 4],\n",
    "    'gradientboostingclassifier__max_features': ['auto', 'sqrt', 'log2'],\n",
    "}\n",
    "\n",
    "# pipelines for each model\n",
    "log_reg_pipeline = make_pipeline(preprocessor, log_reg)\n",
    "rf_pipeline = make_pipeline(preprocessor, rf)\n",
    "gb_pipeline = make_pipeline(preprocessor, gb_clf)\n",
    "\n",
    "# searching for hyperparameters \n",
    "n_iter_search = 800\n",
    "log_reg_random_search = RandomizedSearchCV(log_reg_pipeline, param_distributions=log_reg_param_grid, n_iter=n_iter_search)\n",
    "rf_random_search = RandomizedSearchCV(rf_pipeline, param_distributions=rf_param_grid, n_iter=n_iter_search)\n",
    "gb_random_search = RandomizedSearchCV(gb_pipeline, param_distributions=gb_param_grid, n_iter=n_iter_search)\n",
    "\n",
    "# fit the models with the random search\n",
    "log_reg_random_search.fit(X_train, y_train)\n",
    "rf_random_search.fit(X_train, y_train)\n",
    "gb_random_search.fit(X_train, y_train)\n",
    "\n",
    "# the best models\n",
    "best_log_reg_model = log_reg_random_search.best_estimator_\n",
    "best_rf_model = rf_random_search.best_estimator_\n",
    "best_gb_model = gb_random_search.best_estimator_"
   ]
  },
  {
   "cell_type": "code",
   "execution_count": 36,
   "metadata": {},
   "outputs": [
    {
     "name": "stdout",
     "output_type": "stream",
     "text": [
      "Best Logistic Regression \n",
      "\n",
      "              precision    recall  f1-score   support\n",
      "\n",
      "        high       0.62      0.25      0.36        20\n",
      "         low       0.80      0.98      0.88       293\n",
      "         med       0.68      0.32      0.44       106\n",
      "\n",
      "    accuracy                           0.78       419\n",
      "   macro avg       0.70      0.52      0.56       419\n",
      "weighted avg       0.76      0.78      0.74       419\n",
      "\n"
     ]
    },
    {
     "data": {
      "image/png": "[encoded data removed]",
      "text/plain": [
       "<Figure size 640x480 with 2 Axes>"
      ]
     },
     "metadata": {},
     "output_type": "display_data"
    },
    {
     "name": "stdout",
     "output_type": "stream",
     "text": [
      "Best Random Forest \n",
      "\n",
      "              precision    recall  f1-score   support\n",
      "\n",
      "        high       0.60      0.30      0.40        20\n",
      "         low       0.81      0.94      0.87       293\n",
      "         med       0.57      0.37      0.45       106\n",
      "\n",
      "    accuracy                           0.76       419\n",
      "   macro avg       0.66      0.54      0.57       419\n",
      "weighted avg       0.74      0.76      0.74       419\n",
      "\n"
     ]
    },
    {
     "data": {
      "image/png": "[encoded data removed]",
      "text/plain": [
       "<Figure size 640x480 with 2 Axes>"
      ]
     },
     "metadata": {},
     "output_type": "display_data"
    },
    {
     "name": "stdout",
     "output_type": "stream",
     "text": [
      "Best Gradient Boosting Classifier \n",
      "\n",
      "              precision    recall  f1-score   support\n",
      "\n",
      "        high       0.71      0.50      0.59        20\n",
      "         low       0.86      0.93      0.89       293\n",
      "         med       0.67      0.56      0.61       106\n",
      "\n",
      "    accuracy                           0.81       419\n",
      "   macro avg       0.75      0.66      0.70       419\n",
      "weighted avg       0.80      0.81      0.81       419\n",
      "\n"
     ]
    },
    {
     "data": {
      "image/png": "[encoded data removed]",
      "text/plain": [
       "<Figure size 640x480 with 2 Axes>"
      ]
     },
     "metadata": {},
     "output_type": "display_data"
    }
   ],
   "source": [
    "# evaluating our tuned models\n",
    "best_log_reg_y_pred = best_log_reg_model.predict(X_test)\n",
    "model_scores_best_log_reg = eval_classification(y_test, best_log_reg_y_pred, name='Best Logistic Regression', average='macro')\n",
    "\n",
    "\n",
    "best_rf_y_pred = best_rf_model.predict(X_test)\n",
    "model_scores_best_rf = eval_classification(y_test, best_rf_y_pred, name='Best Random Forest', average='macro')\n",
    "\n",
    "\n",
    "best_gb_y_pred = best_gb_model.predict(X_test)\n",
    "model_scores_best_gb = eval_classification(y_test, best_gb_y_pred, name='Best Gradient Boosting Classifier', average='macro')\n"
   ]
  },
  {
   "cell_type": "code",
   "execution_count": 37,
   "metadata": {},
   "outputs": [
    {
     "data": {
      "text/html": [
       "<div>\n",
       "<style scoped>\n",
       "    .dataframe tbody tr th:only-of-type {\n",
       "        vertical-align: middle;\n",
       "    }\n",
       "\n",
       "    .dataframe tbody tr th {\n",
       "        vertical-align: top;\n",
       "    }\n",
       "\n",
       "    .dataframe thead th {\n",
       "        text-align: right;\n",
       "    }\n",
       "</style>\n",
       "<table border=\"1\" class=\"dataframe\">\n",
       "  <thead>\n",
       "    <tr style=\"text-align: right;\">\n",
       "      <th></th>\n",
       "      <th>Precision</th>\n",
       "      <th>Recall</th>\n",
       "      <th>F1 Score</th>\n",
       "      <th>Accuracy</th>\n",
       "      <th>Model Name</th>\n",
       "    </tr>\n",
       "  </thead>\n",
       "  <tbody>\n",
       "    <tr>\n",
       "      <th>0</th>\n",
       "      <td>0.700005</td>\n",
       "      <td>0.516759</td>\n",
       "      <td>0.556905</td>\n",
       "      <td>0.778043</td>\n",
       "      <td>Tuned LogRegression</td>\n",
       "    </tr>\n",
       "    <tr>\n",
       "      <th>1</th>\n",
       "      <td>0.659994</td>\n",
       "      <td>0.535497</td>\n",
       "      <td>0.571928</td>\n",
       "      <td>0.763723</td>\n",
       "      <td>Tuned RandomForest</td>\n",
       "    </tr>\n",
       "    <tr>\n",
       "      <th>2</th>\n",
       "      <td>0.747595</td>\n",
       "      <td>0.661644</td>\n",
       "      <td>0.696095</td>\n",
       "      <td>0.813842</td>\n",
       "      <td>Tuned GradientBoost</td>\n",
       "    </tr>\n",
       "  </tbody>\n",
       "</table>\n",
       "</div>"
      ],
      "text/plain": [
       "   Precision    Recall  F1 Score  Accuracy           Model Name\n",
       "0   0.700005  0.516759  0.556905  0.778043  Tuned LogRegression\n",
       "1   0.659994  0.535497  0.571928  0.763723   Tuned RandomForest\n",
       "2   0.747595  0.661644  0.696095  0.813842  Tuned GradientBoost"
      ]
     },
     "execution_count": 37,
     "metadata": {},
     "output_type": "execute_result"
    }
   ],
   "source": [
    "# storing the evaluation results in a dataframe\n",
    "results_df = pd.concat([model_scores_best_log_reg, model_scores_best_rf, model_scores_best_gb], axis=0).reset_index(drop=True)\n",
    "results_df['Model Name'] = ['Tuned LogRegression', 'Tuned RandomForest', 'Tuned GradientBoost']\n",
    "results_df"
   ]
  },
  {
   "cell_type": "code",
   "execution_count": 38,
   "metadata": {},
   "outputs": [
    {
     "data": {
      "text/html": [
       "<div>\n",
       "<style scoped>\n",
       "    .dataframe tbody tr th:only-of-type {\n",
       "        vertical-align: middle;\n",
       "    }\n",
       "\n",
       "    .dataframe tbody tr th {\n",
       "        vertical-align: top;\n",
       "    }\n",
       "\n",
       "    .dataframe thead th {\n",
       "        text-align: right;\n",
       "    }\n",
       "</style>\n",
       "<table border=\"1\" class=\"dataframe\">\n",
       "  <thead>\n",
       "    <tr style=\"text-align: right;\">\n",
       "      <th></th>\n",
       "      <th>Model Name</th>\n",
       "      <th>Precision</th>\n",
       "      <th>Recall</th>\n",
       "      <th>F1 Score</th>\n",
       "      <th>Accuracy</th>\n",
       "    </tr>\n",
       "  </thead>\n",
       "  <tbody>\n",
       "    <tr>\n",
       "      <th>0</th>\n",
       "      <td>Gradient Boosting Classifier</td>\n",
       "      <td>0.645135</td>\n",
       "      <td>0.566407</td>\n",
       "      <td>0.594609</td>\n",
       "      <td>0.778043</td>\n",
       "    </tr>\n",
       "    <tr>\n",
       "      <th>1</th>\n",
       "      <td>Tuned GradientBoost</td>\n",
       "      <td>0.747595</td>\n",
       "      <td>0.661644</td>\n",
       "      <td>0.696095</td>\n",
       "      <td>0.813842</td>\n",
       "    </tr>\n",
       "  </tbody>\n",
       "</table>\n",
       "</div>"
      ],
      "text/plain": [
       "                     Model Name  Precision    Recall  F1 Score  Accuracy\n",
       "0  Gradient Boosting Classifier   0.645135  0.566407  0.594609  0.778043\n",
       "1           Tuned GradientBoost   0.747595  0.661644  0.696095  0.813842"
      ]
     },
     "execution_count": 38,
     "metadata": {},
     "output_type": "execute_result"
    }
   ],
   "source": [
    "# creating a dataframe out of both our gradient boost classifiers\n",
    "gb_location = model_scores_combined[model_scores_combined['Model Name'] == 'Gradient Boosting Classifier'].index\n",
    "\n",
    "tuned_gb_location = results_df[results_df['Model Name'] == 'Tuned GradientBoost'].index\n",
    "\n",
    "gb_row = model_scores_combined.loc[gb_location]\n",
    "tuned_gb_row = results_df.loc[tuned_gb_location]\n",
    "\n",
    "comparison_df = pd.concat([gb_row, tuned_gb_row], ignore_index=True)\n",
    "comparison_df"
   ]
  },
  {
   "attachments": {},
   "cell_type": "markdown",
   "metadata": {},
   "source": [
    "**Business Objective:** Accurate forecasting of Spanish wine ratings to ensure successful market introduction and positioning.\n",
    "\n",
    "In selecting a model, our objective is to accurately predict the ratings (low, medium, or high) of Spanish wines entering a new market. Reliable predictions enable savvy business choices about the wines to invest in and promote, leading to potential increased sales and improved customer satisfaction.\n",
    "\n",
    "The Tuned GradientBoost model outshines the base Gradient Boosting Classifier across all evaluated metrics, making it our preferred choice. The advancements in Precision, Recall, F1 Score, and Accuracy suggest that the Tuned GradientBoost model will deliver more reliable and accurate predictions.\n",
    "\n",
    "Here are the key benefits of using the Tuned GradientBoost Classifier:\n",
    "\n",
    "*Enhanced Precision:* Precision jumped from 0.645 to 0.747 in the Tuned GradientBoost model, meaning this model is more precise in predicting wines that will receive higher ratings. This precision enables you to focus on wines most likely to thrive in the new market, minimizing the risk associated with investing in wines that may not be well-received.\n",
    "\n",
    "*Increased Recall:* A rise in Recall from 0.566 to 0.661 indicates that the Tuned GradientBoost model is more efficient at recognizing wines with truly positive ratings. This model can help you corner a larger market share of top-quality wines, leading to increased demand and customer satisfaction.\n",
    "\n",
    "*Superior F1 Score:* The F1 Score combines Precision and Recall into a single metric for easy comparison. The score rose from 0.595 to 0.696 in the Tuned GradientBoost model, suggesting it provides a superior balance of Precision and Recall. This balance ensures more accurate and effective decision-making.\n",
    "\n",
    "*Improved Accuracy:* The Tuned GradientBoost model boasts an Accuracy increase from 0.778 to 0.813. This higher Accuracy means the model's predictions are more often correct, leading to more strategic marketing decisions and better inventory management.\n",
    "\n",
    "**Business Solution:**\n",
    "In conclusion, our choice of the Tuned GradientBoost model will provide your business with more precise predictions, enabling you to optimize marketing efforts, manage inventory effectively, and invest wisely in wines with high potential. Ultimately, these informed decisions will boost sales, enhance customer satisfaction, and improve profitability."
   ]
  }
 ],
 "metadata": {
  "kernelspec": {
   "display_name": "Python (dojo-env)",
   "language": "python",
   "name": "dojo-env"
  },
  "language_info": {
   "codemirror_mode": {
    "name": "ipython",
    "version": 3
   },
   "file_extension": ".py",
   "mimetype": "text/x-python",
   "name": "python",
   "nbconvert_exporter": "python",
   "pygments_lexer": "ipython3",
   "version": "3.9.15"
  },
  "orig_nbformat": 4
 },
 "nbformat": 4,
 "nbformat_minor": 2
}
